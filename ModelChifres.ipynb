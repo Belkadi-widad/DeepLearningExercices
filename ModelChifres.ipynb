{
 "cells": [
  {
   "cell_type": "code",
   "execution_count": 7,
   "metadata": {},
   "outputs": [
    {
     "name": "stdout",
     "output_type": "stream",
     "text": [
      "Epoch 1/5\n",
      "60000/60000 [==============================] - 26s 432us/step - loss: 0.2230 - acc: 0.9333\n",
      "Epoch 2/5\n",
      "60000/60000 [==============================] - 27s 455us/step - loss: 0.0904 - acc: 0.9717\n",
      "Epoch 3/5\n",
      "60000/60000 [==============================] - 26s 435us/step - loss: 0.0588 - acc: 0.9814\n",
      "Epoch 4/5\n",
      "60000/60000 [==============================] - 26s 430us/step - loss: 0.0433 - acc: 0.9862\n",
      "Epoch 5/5\n",
      "60000/60000 [==============================] - 27s 453us/step - loss: 0.0316 - acc: 0.9894\n"
     ]
    },
    {
     "data": {
      "text/plain": [
       "<tensorflow.python.keras.callbacks.History at 0x1ed96afc1d0>"
      ]
     },
     "execution_count": 7,
     "metadata": {},
     "output_type": "execute_result"
    }
   ],
   "source": [
    "import tensorflow as tf\n",
    "from keras import optimizers \n",
    "from tensorflow.keras.callbacks import TensorBoard\n",
    "import time \n",
    "\n",
    "NAME=\"Model-chiffres-1-{}\".format(int(time.time()))\n",
    "                                  \n",
    "tensorboard = TensorBoard(log_dir=\"logs/{}\".format(NAME))\n",
    "\n",
    "\n",
    "mnist=tf.keras.datasets.mnist #des images de 28*28 de chiffres \n",
    "#loading data \n",
    "(x_train,y_train), (x_test,y_test) = mnist.load_data()\n",
    "#Normalizing data  lui construire un echelle  pour faciliter l'apprentissage\n",
    "x_train = tf.keras.utils.normalize(x_train, axis=1)\n",
    "x_test = tf.keras.utils.normalize(x_test, axis=1)\n",
    "\n",
    "#construire le modéle \n",
    "model= tf.keras.models.Sequential()\n",
    "#ajouter les couches\n",
    "\n",
    "#1 ére couche qui correspond au inputs  \n",
    "model.add(tf.keras.layers.Flatten())\n",
    "#first hidden layer  avec 128 est le nombre de neurones  et la focntion d' activation  est relu \n",
    "model.add(tf.keras.layers.Dense(256,activation= tf.nn.relu6))\n",
    "#second hidden layer \n",
    "model.add(tf.keras.layers.Dense(256,activation= tf.nn.relu6))\n",
    "'''third hidden layer \n",
    "model.add(tf.keras.layers.Dense(128,activation= tf.nn.relu))\n",
    "#forth  hidden layer \n",
    "model.add(tf.keras.layers.Dense(128,activation= tf.nn.relu))\n",
    "'''\n",
    "#output layer \n",
    "model.add(tf.keras.layers.Dense(10,activation= tf.nn.softmax))\n",
    "          \n",
    "#training \n",
    "optimizer = 'adam' #algorithme d'optimisation assez complex \n",
    "loss='sparse_categorical_crossentropy' #le taux d 'erreur'\n",
    "#loss='binary_crossentropy'\n",
    "matrics =['accuracy'] \n",
    "model.compile(optimizer,loss,matrics)\n",
    "model.fit(x_train,y_train,epochs=5,callbacks=[tensorboard])\n",
    "          \n",
    "\n",
    "    \n",
    "\n",
    "\n"
   ]
  },
  {
   "cell_type": "markdown",
   "metadata": {},
   "source": [
    "on remarque que \n",
    "AVEC 3 LAYERS  fonction d'ctivation est relu6 : \n",
    "4 epoch : \n",
    " dans le trainting : \n",
    "    loss=0.05\n",
    "    acc=0.98\n",
    " dans le test : \n",
    "    loss=0.08 \n",
    "    acc=0.97\n",
    "3 epoch : \n",
    "  dans le training : \n",
    "    loss= 0.07\n",
    "    acc=0.976 \n",
    "  dans le test  \n",
    "    loss=0.08 \n",
    "    acc=0.97 \n",
    "DONC 3 epoch est l'idéale ! \n",
    "\n",
    "*La normalisation aussi est trés importante ! \n",
    "\n",
    "AVEC 4 couches : \n",
    "3 epoch : \n",
    "dans le training : \n",
    "  acc=0.977 \n",
    "  loss= 0.07 \n",
    "dans le test : \n",
    "   loss= 0.10 (a augmenter par raport a 3 couches  ) \n",
    "  acc= 0.96(a diminuer  )\n",
    "\n",
    "Avec tanh  3 couches et 3 epoch :  relu est mieux \n",
    "\n",
    "\n"
   ]
  },
  {
   "cell_type": "code",
   "execution_count": 81,
   "metadata": {},
   "outputs": [
    {
     "name": "stdout",
     "output_type": "stream",
     "text": [
      "10000/10000 [==============================] - 1s 84us/step\n",
      "valeur d'erreur 0.087572653226\n",
      "valeur de précision 0.9721\n"
     ]
    }
   ],
   "source": [
    "#test  : calculer la valeur d'erreur et de precision \n",
    "val_err, val_acc = model.evaluate(x_test,y_test) # evaluate retur les deux valeurs \n",
    "print(\"valeur d'erreur\",val_err)\n",
    "print(\"valeur de précision\",val_acc)\n"
   ]
  },
  {
   "cell_type": "code",
   "execution_count": 55,
   "metadata": {},
   "outputs": [
    {
     "name": "stdout",
     "output_type": "stream",
     "text": [
      "9\n"
     ]
    },
    {
     "data": {
      "image/png": "[encoded data removed]",
      "text/plain": [
       "<Figure size 432x288 with 1 Axes>"
      ]
     },
     "metadata": {},
     "output_type": "display_data"
    }
   ],
   "source": [
    "import matplotlib.pyplot as plt \n",
    "\n",
    "print(y_train[4])\n",
    "plt.imshow(x_train[4] , cmap=plt.cm.binary)\n",
    "plt.show()\n",
    "\n"
   ]
  },
  {
   "cell_type": "code",
   "execution_count": 51,
   "metadata": {},
   "outputs": [],
   "source": [
    "model.save('Model_of_numbers_prediction')\n",
    "new_model= tf.keras.models.load_model('Model_of_numbers_prediction')\n"
   ]
  },
  {
   "cell_type": "code",
   "execution_count": 52,
   "metadata": {},
   "outputs": [],
   "source": [
    "predictions= new_model.predict([x_test])"
   ]
  },
  {
   "cell_type": "code",
   "execution_count": 53,
   "metadata": {},
   "outputs": [
    {
     "name": "stdout",
     "output_type": "stream",
     "text": [
      "[[  3.31025909e-08   2.05287520e-08   7.21573997e-07 ...,   9.99997616e-01\n",
      "    1.29552760e-08   2.78292930e-07]\n",
      " [  9.30469302e-09   5.78876992e-04   9.99417901e-01 ...,   6.81159504e-11\n",
      "    1.64383508e-07   1.43484985e-12]\n",
      " [  4.91970877e-06   9.99677896e-01   1.37234138e-05 ...,   1.92164051e-04\n",
      "    3.64376647e-05   1.09465770e-06]\n",
      " ..., \n",
      " [  7.08675918e-09   3.08990096e-08   6.80865309e-10 ...,   4.36856499e-06\n",
      "    6.81815038e-07   1.58994444e-04]\n",
      " [  2.04746393e-05   3.55161592e-06   4.43736354e-07 ...,   5.70997281e-06\n",
      "    1.47190818e-03   1.41437241e-07]\n",
      " [  7.91149333e-08   3.76490350e-09   5.53467032e-08 ...,   3.28732597e-11\n",
      "    2.56835353e-08   1.34578571e-10]]\n"
     ]
    }
   ],
   "source": [
    "print(predictions)"
   ]
  },
  {
   "cell_type": "code",
   "execution_count": 62,
   "metadata": {},
   "outputs": [
    {
     "name": "stdout",
     "output_type": "stream",
     "text": [
      "7\n"
     ]
    }
   ],
   "source": [
    "import numpy as np \n",
    "# visualiser les predictions avec numpy \n",
    "print(np.argmax(predictions[60]))"
   ]
  },
  {
   "cell_type": "code",
   "execution_count": 61,
   "metadata": {},
   "outputs": [
    {
     "data": {
      "image/png": "[encoded data removed]",
      "text/plain": [
       "<Figure size 432x288 with 1 Axes>"
      ]
     },
     "metadata": {},
     "output_type": "display_data"
    }
   ],
   "source": [
    "plt.imshow(x_test[60])\n",
    "plt.show()"
   ]
  },
  {
   "cell_type": "code",
   "execution_count": null,
   "metadata": {},
   "outputs": [],
   "source": []
  }
 ],
 "metadata": {
  "kernelspec": {
   "display_name": "Python 3",
   "language": "python",
   "name": "python3"
  },
  "language_info": {
   "codemirror_mode": {
    "name": "ipython",
    "version": 3
   },
   "file_extension": ".py",
   "mimetype": "text/x-python",
   "name": "python",
   "nbconvert_exporter": "python",
   "pygments_lexer": "ipython3",
   "version": "3.5.0"
  }
 },
 "nbformat": 4,
 "nbformat_minor": 2
}
