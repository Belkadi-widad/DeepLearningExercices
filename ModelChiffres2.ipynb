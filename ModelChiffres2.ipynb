{
 "cells": [
  {
   "cell_type": "code",
   "execution_count": 77,
   "metadata": {},
   "outputs": [
    {
     "name": "stdout",
     "output_type": "stream",
     "text": [
      "Extracting MNIST_data\\train-images-idx3-ubyte.gz\n",
      "Extracting MNIST_data\\train-labels-idx1-ubyte.gz\n",
      "Extracting MNIST_data\\t10k-images-idx3-ubyte.gz\n",
      "Extracting MNIST_data\\t10k-labels-idx1-ubyte.gz\n"
     ]
    }
   ],
   "source": [
    "%matplotlib inline\n",
    "\n",
    "import matplotlib.pyplot as plt\n",
    "import tensorflow as tf\n",
    "import numpy as np\n",
    "from sklearn.metrics import confusion_matrix\n",
    "#loading data \n",
    "from tensorflow.examples.tutorials.mnist import input_data\n",
    "data= input_data.read_data_sets(\"MNIST_data\", one_hot=True)\n",
    "\n",
    "\n"
   ]
  },
  {
   "cell_type": "code",
   "execution_count": 78,
   "metadata": {},
   "outputs": [
    {
     "name": "stdout",
     "output_type": "stream",
     "text": [
      "Size of:\n",
      "- Training-set:\t\t55000\n",
      "- Validation-set:\t5000\n",
      "- Test-set:\t\t10000\n"
     ]
    }
   ],
   "source": [
    "print(\"Size of:\")\n",
    "print(\"- Training-set:\\t\\t{}\".format(data.train.num_examples))\n",
    "print(\"- Validation-set:\\t{}\".format(data.validation.num_examples))\n",
    "print(\"- Test-set:\\t\\t{}\".format(data.test.num_examples))\n"
   ]
  },
  {
   "cell_type": "code",
   "execution_count": 83,
   "metadata": {},
   "outputs": [],
   "source": [
    "#build the model : \n",
    "\n",
    "n_nodes_hl1 = 500\n",
    "n_nodes_hl2 = 500\n",
    "n_nodes_hl3 = 500\n",
    "n_nodes_hl4=500\n",
    "n_classes = 10\n",
    "batch_size = 100 \n",
    "\n",
    "#identifier les variables placeholders de l'input \n",
    "#784 pixels  car 28*28 les dimenssions de nos images \n",
    "\n",
    "x = tf.placeholder('float', [None, 784])\n",
    "y = tf.placeholder('float')\n",
    "\n",
    "#construire les couches \n",
    "def neural_network_model(data):\n",
    "    \n",
    "    hidden_1_layer = {'weights': tf.Variable(tf.random_normal([784, n_nodes_hl1])),\n",
    "                      'biases':tf.Variable(tf.random_normal([n_nodes_hl1]))}\n",
    "    \n",
    "    hidden_2_layer = {'weights': tf.Variable(tf.random_normal([n_nodes_hl1, n_nodes_hl2])),\n",
    "                      'biases':tf.Variable(tf.random_normal([n_nodes_hl2]))}\n",
    "    \n",
    "    hidden_3_layer = {'weights': tf.Variable(tf.random_normal([n_nodes_hl2, n_nodes_hl3])),\n",
    "                      'biases':tf.Variable(tf.random_normal([n_nodes_hl3]))}\n",
    "    \n",
    "    hidden_4_layer = {'weights': tf.Variable(tf.random_normal([n_nodes_hl3, n_nodes_hl4])),\n",
    "                      'biases':tf.Variable(tf.random_normal([n_nodes_hl4]))}\n",
    "    \n",
    "    output_layer = {'weights': tf.Variable(tf.random_normal([n_nodes_hl4,n_classes])),\n",
    "                      'biases':tf.Variable(tf.random_normal([n_classes]))}\n",
    "    #X1*W1+B1\n",
    "    #f(X1*W1+B1)=Y1\n",
    "    l1 = tf.add(tf.matmul(data,hidden_1_layer['weights']), hidden_1_layer['biases'])\n",
    "    l1 = tf.nn.relu(l1)\n",
    "\n",
    "    l2 = tf.add(tf.matmul(l1,hidden_2_layer['weights']), hidden_2_layer['biases'])\n",
    "    l2 = tf.nn.relu(l2)\n",
    "\n",
    "    l3 = tf.add(tf.matmul(l1,hidden_3_layer['weights']), hidden_3_layer['biases'])\n",
    "    l3 = tf.nn.relu(l3)\n",
    "    output = tf.matmul(l3,output_layer['weights']) + output_layer['biases']\n",
    "    \n",
    "    return output \n",
    "\n",
    "   "
   ]
  },
  {
   "cell_type": "markdown",
   "metadata": {},
   "source": [
    "traininig \n",
    "comme on a peu le constater : \n",
    "les  poids et biases sont aléatoire on doit donc on doit les modifier \n",
    "c 'est ce que fait la fonction softmax_cross_entropy_with_logits_v2\n",
    "\n",
    "une fonction continue toujours positive et\n",
    "si la sortie prévue du modèle = la sortie souhaitée\n",
    "alors = zéro . Le but de l'optimisation est donc de minimiser l'entropie croisée afin qu'elle soit aussi proche de zéro que possible en modifiant le weightset biases du modèle.\n",
    "\n"
   ]
  },
  {
   "cell_type": "code",
   "execution_count": 90,
   "metadata": {},
   "outputs": [
    {
     "name": "stdout",
     "output_type": "stream",
     "text": [
      "Epoch 0 completed out of 18 loss: 137121.754234\n",
      "Epoch 1 completed out of 18 loss: 34448.8306792\n",
      "Epoch 2 completed out of 18 loss: 19920.911664\n",
      "Epoch 3 completed out of 18 loss: 12598.9585609\n",
      "Epoch 4 completed out of 18 loss: 8110.57955776\n",
      "Epoch 5 completed out of 18 loss: 5465.9786127\n",
      "Epoch 6 completed out of 18 loss: 3676.53938309\n",
      "Epoch 7 completed out of 18 loss: 2597.62606196\n",
      "Epoch 8 completed out of 18 loss: 1969.40470889\n",
      "Epoch 9 completed out of 18 loss: 1449.79264861\n",
      "Epoch 10 completed out of 18 loss: 1191.00024\n",
      "Epoch 11 completed out of 18 loss: 1020.74894402\n",
      "Epoch 12 completed out of 18 loss: 1008.15816468\n",
      "Epoch 13 completed out of 18 loss: 732.035626545\n",
      "Epoch 14 completed out of 18 loss: 670.572928483\n",
      "Epoch 15 completed out of 18 loss: 716.136717623\n",
      "Epoch 16 completed out of 18 loss: 748.252666094\n",
      "Epoch 17 completed out of 18 loss: 613.340702127\n",
      "Accuracy: 0.9589\n"
     ]
    }
   ],
   "source": [
    "def train_neural_network(x): \n",
    "    prediction = neural_network_model ( x ) \n",
    "    #mesurer l'erreur puis calculer la moyenne \n",
    "    cross_entropy =tf.nn.softmax_cross_entropy_with_logits_v2(logits=prediction,labels=y)\n",
    "    cost = tf.reduce_mean (cross_entropy)\n",
    "    #optimiser les predictions \n",
    "    optimizer = tf.train.AdamOptimizer().minimize(cost)\n",
    "    #nombre d'epoque ou d'iiteration =10 \n",
    "    n_epochs=18\n",
    "    # executer la session \n",
    "    with tf.Session() as sess:\n",
    "        sess.run(tf.global_variables_initializer())\n",
    "        for epoch in range(n_epochs):\n",
    "            epoch_loss=0 \n",
    "            for _ in range(int(data.train.num_examples/batch_size)):\n",
    "                epoch_x, epoch_y = mnist.train.next_batch(batch_size)\n",
    "                _, c = sess.run([optimizer, cost], feed_dict={x: epoch_x, y: epoch_y})\n",
    "                epoch_loss += c\n",
    "            print('Epoch', epoch, 'completed out of',n_epochs,'loss:',epoch_loss)\n",
    "        \n",
    "        # equal return true else return false  et argmax retourne la plus grande valeur de predection ou de y \n",
    "        correct = tf.equal(tf.argmax(prediction, 1), tf.argmax(y, 1))\n",
    "        \n",
    "        #calculer le pourcentage de précision  cast permet de rendre un boolean en float \n",
    "        accuracy = tf.reduce_mean(tf.cast(correct, 'float'))\n",
    "        print('Accuracy:',accuracy.eval({x:data.test.images, y:data.test.labels}))\n",
    "        \n",
    "        \n",
    "train_neural_network(x)\n",
    "\n"
   ]
  },
  {
   "cell_type": "code",
   "execution_count": null,
   "metadata": {},
   "outputs": [],
   "source": []
  }
 ],
 "metadata": {
  "kernelspec": {
   "display_name": "Python 3",
   "language": "python",
   "name": "python3"
  },
  "language_info": {
   "codemirror_mode": {
    "name": "ipython",
    "version": 3
   },
   "file_extension": ".py",
   "mimetype": "text/x-python",
   "name": "python",
   "nbconvert_exporter": "python",
   "pygments_lexer": "ipython3",
   "version": "3.5.0"
  }
 },
 "nbformat": 4,
 "nbformat_minor": 2
}
