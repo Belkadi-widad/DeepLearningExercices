{
 "cells": [
  {
   "cell_type": "code",
   "execution_count": null,
   "metadata": {
    "scrolled": true
   },
   "outputs": [
    {
     "name": "stdout",
     "output_type": "stream",
     "text": [
      "Train on 60000 samples, validate on 10000 samples\n",
      "Epoch 1/3\n",
      " 2944/60000 [>.............................] - ETA: 14:45 - loss: 2.1140 - acc: 0.1929"
     ]
    }
   ],
   "source": [
    "import tensorflow as tf\n",
    "from tensorflow.keras.models import Sequential \n",
    "from tensorflow.keras.layers import Dense,Dropout,LSTM \n",
    "\n",
    "\n",
    "mnist=tf.keras.datasets.mnist \n",
    "(x_train,y_train) ,(x_test,y_test) = mnist.load_data()\n",
    "\n",
    "x_train = x_train/255.0\n",
    "x_test = x_test/255.0\n",
    "\n",
    "\n",
    "model=Sequential()\n",
    "\n",
    "couche_1 = LSTM(128,input_shape=(x_train.shape[1:]), activation='relu',return_sequences=True)\n",
    "model.add(couche_1)\n",
    "\n",
    "'''couche_2=Dropout(0.1)\n",
    "model.add(couche_2)\n",
    "'''\n",
    "\n",
    "couche_3 = LSTM(128,activation='relu')\n",
    "model.add(couche_3)\n",
    "\n",
    "'''couche_4=Dropout(0.1)\n",
    "model.add(couche_4)\n",
    "'''\n",
    "couche_5=Dense(32,activation='relu')\n",
    "model.add(couche_5)\n",
    "\n",
    "'''couche_6=Dropout(0.2)\n",
    "model.add(couche_6)\n",
    "'''\n",
    "couche_out=Dense(10,activation='softmax')\n",
    "model.add(couche_out)\n",
    "\n",
    "opt=tf.keras.optimizers.Adam(lr=0.01,decay=1e-6)#lr est le taux d'apprenstissage et decay est le scalaire a diminuer du taux d'apprentissage \n",
    "loss='sparse_categorical_crossentropy'\n",
    "mats=['accuracy']\n",
    "\n",
    "model.compile(loss=loss,\n",
    "             optimizer=opt,\n",
    "             metrics=mats)\n",
    "model.fit(x_train,y_train,epochs=3,validation_data=(x_test,y_test))\n",
    "\n"
   ]
  },
  {
   "cell_type": "code",
   "execution_count": null,
   "metadata": {},
   "outputs": [],
   "source": []
  }
 ],
 "metadata": {
  "kernelspec": {
   "display_name": "Python 3",
   "language": "python",
   "name": "python3"
  },
  "language_info": {
   "codemirror_mode": {
    "name": "ipython",
    "version": 3
   },
   "file_extension": ".py",
   "mimetype": "text/x-python",
   "name": "python",
   "nbconvert_exporter": "python",
   "pygments_lexer": "ipython3",
   "version": "3.5.0"
  }
 },
 "nbformat": 4,
 "nbformat_minor": 2
}
